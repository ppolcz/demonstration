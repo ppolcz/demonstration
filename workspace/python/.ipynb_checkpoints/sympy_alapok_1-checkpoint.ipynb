{
 "cells": [
  {
   "cell_type": "code",
   "execution_count": 16,
   "metadata": {},
   "outputs": [
    {
     "data": {
      "text/latex": [
       "$\\displaystyle \\left[\\begin{matrix}\\left(\\overline{u} B^{\\dagger} P + \\overline{x} \\left(P A^{\\dagger} + A P\\right)\\right) x + \\overline{x} P B u\\end{matrix}\\right]$"
      ],
      "text/plain": [
       "Matrix([[(conjugate(u)*Dagger(B)*P + conjugate(x)*(P*Dagger(A) + A*P))*x + conjugate(x)*P*B*u]])"
      ]
     },
     "execution_count": 16,
     "metadata": {},
     "output_type": "execute_result"
    }
   ],
   "source": [
    "from sympy.physics.quantum.operator import HermitianOperator, Operator\n",
    "from sympy.physics.quantum.dagger import Dagger\n",
    "from sympy import MatrixSymbol, Matrix\n",
    "\n",
    "A = Operator('A')\n",
    "B = Operator('B')\n",
    "C = Operator('C')\n",
    "D = Operator('D')\n",
    "O = Operator('O')\n",
    "x = Operator('x')\n",
    "u = Operator('u')\n",
    "P = HermitianOperator('P')\n",
    "\n",
    "def He(A):\n",
    "    return Dagger(A) + A\n",
    "\n",
    "M = Matrix([[He(A*P) , P*B] , [Dagger(B)*P , 0]])\n",
    "xi = Matrix([[x] , [u]])\n",
    "\n",
    "M*xi\n",
    "\n",
    "Dagger(xi)*M*xi"
   ]
  },
  {
   "cell_type": "markdown",
   "metadata": {},
   "source": [
    "https://www.edureka.co/blog/wp-content/uploads/2018/10/Jupyter_Notebook_CheatSheet_Edureka.pdf"
   ]
  },
  {
   "cell_type": "code",
   "execution_count": 12,
   "metadata": {},
   "outputs": [
    {
     "data": {
      "text/latex": [
       "$\\displaystyle A B C$"
      ],
      "text/plain": [
       "A*B*C"
      ]
     },
     "execution_count": 12,
     "metadata": {},
     "output_type": "execute_result"
    }
   ],
   "source": [
    "from sympy import MatMul, MatrixSymbol\n",
    "\n",
    "A = MatrixSymbol('A', 5, 4)\n",
    "B = MatrixSymbol('B', 4, 3)\n",
    "C = MatrixSymbol('C', 3, 6)\n",
    "\n",
    "MatMul(A, B, C)\n",
    "A*B*C"
   ]
  },
  {
   "cell_type": "code",
   "execution_count": 13,
   "metadata": {},
   "outputs": [
    {
     "data": {
      "text/plain": [
       "6"
      ]
     },
     "execution_count": 13,
     "metadata": {},
     "output_type": "execute_result"
    }
   ],
   "source": [
    "2*3"
   ]
  },
  {
   "cell_type": "code",
   "execution_count": 19,
   "metadata": {},
   "outputs": [
    {
     "data": {
      "text/latex": [
       "$\\displaystyle \\left[\\begin{matrix}1 & 2\\\\- i & - i\\end{matrix}\\right]$"
      ],
      "text/plain": [
       "Matrix([\n",
       "[ 1,  2],\n",
       "[-I, -I]])"
      ]
     },
     "execution_count": 19,
     "metadata": {},
     "output_type": "execute_result"
    }
   ],
   "source": [
    "from sympy import Matrix, I\n",
    "m = Matrix([[1,I],[2,I]])\n",
    "Dagger(m)"
   ]
  }
 ],
 "metadata": {
  "kernelspec": {
   "display_name": "Python 3",
   "language": "python",
   "name": "python3"
  },
  "language_info": {
   "codemirror_mode": {
    "name": "ipython",
    "version": 3
   },
   "file_extension": ".py",
   "mimetype": "text/x-python",
   "name": "python",
   "nbconvert_exporter": "python",
   "pygments_lexer": "ipython3",
   "version": "3.6.9"
  }
 },
 "nbformat": 4,
 "nbformat_minor": 2
}
